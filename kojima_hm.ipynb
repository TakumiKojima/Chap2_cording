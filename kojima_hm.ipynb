{
 "cells": [
  {
   "cell_type": "markdown",
   "metadata": {
    "deletable": false,
    "editable": false,
    "heading_collapsed": true,
    "run_control": {
     "frozen": true
    }
   },
   "source": [
    "### Document to Text with Space between Words\n",
    "form: pandas data frame"
   ]
  },
  {
   "cell_type": "code",
   "execution_count": 1,
   "metadata": {
    "hidden": true
   },
   "outputs": [],
   "source": [
    "import re\n",
    "\n",
    "import pandas as pd\n",
    "import spacy"
   ]
  },
  {
   "cell_type": "code",
   "execution_count": 2,
   "metadata": {
    "hidden": true
   },
   "outputs": [],
   "source": [
    "nlp = spacy.load('ja_ginza')"
   ]
  },
  {
   "cell_type": "code",
   "execution_count": 3,
   "metadata": {
    "hidden": true
   },
   "outputs": [],
   "source": [
    "D_path = './corpus2/'\n",
    "topics = ['Gourmet', 'Keitai', 'Kyoto', 'Sports']"
   ]
  },
  {
   "cell_type": "code",
   "execution_count": 4,
   "metadata": {
    "hidden": true
   },
   "outputs": [],
   "source": [
    "cols = ['doc', 'label']\n",
    "df = pd.DataFrame(index=[], columns=cols)\n",
    "regex = re.compile(r'(［.*］)(.*)')\n",
    "\n",
    "for topic in topics:\n",
    "    data = pd.read_table(D_path + topic + '.tsv', header = None, dtype = str, usecols = [1])\n",
    "    for d in data.itertuples():\n",
    "        m = regex.match(d[1])\n",
    "        # first line of the docment\n",
    "        if m != None:\n",
    "            if d[0] != 0:\n",
    "                df = df.append(pd.DataFrame([doc.strip(), topic], index = cols).T)\n",
    "            sent = m.groups()[1]\n",
    "            doc = ''\n",
    "        else:\n",
    "            sent = d[1]\n",
    "        doc = doc+' ' + ' '.join([t.text for t in nlp(sent) \\\n",
    "                                  if (t.pos_ != 'ADP'  and t.pos_ != 'AUX' and t.pos_ != 'PUNCT')])\n",
    "    df = df.append(pd.DataFrame([doc.strip(), topic], index = cols).T)"
   ]
  },
  {
   "cell_type": "code",
   "execution_count": 5,
   "metadata": {
    "hidden": true
   },
   "outputs": [
    {
     "data": {
      "text/html": [
       "<div>\n",
       "<style scoped>\n",
       "    .dataframe tbody tr th:only-of-type {\n",
       "        vertical-align: middle;\n",
       "    }\n",
       "\n",
       "    .dataframe tbody tr th {\n",
       "        vertical-align: top;\n",
       "    }\n",
       "\n",
       "    .dataframe thead th {\n",
       "        text-align: right;\n",
       "    }\n",
       "</style>\n",
       "<table border=\"1\" class=\"dataframe\">\n",
       "  <thead>\n",
       "    <tr style=\"text-align: right;\">\n",
       "      <th></th>\n",
       "      <th>doc</th>\n",
       "      <th>label</th>\n",
       "    </tr>\n",
       "  </thead>\n",
       "  <tbody>\n",
       "    <tr>\n",
       "      <th>0</th>\n",
       "      <td>烏丸 六角 おかき 屋 さん 六角堂 前 ある 蕪村 庵 いう お店 行っ て おかき せん...</td>\n",
       "      <td>Gourmet</td>\n",
       "    </tr>\n",
       "    <tr>\n",
       "      <th>0</th>\n",
       "      <td>河原町 居酒屋 この 間 先輩 たち つれ 河原町 居酒屋 行っ て き ｈｔｔｐ：／／ｗｗ...</td>\n",
       "      <td>Gourmet</td>\n",
       "    </tr>\n",
       "    <tr>\n",
       "      <th>0</th>\n",
       "      <td>ちょっと 贅沢 ほんの ちょこっと ん けど 贅沢 とき 何 か 私 冬季 限定 白バラ コ...</td>\n",
       "      <td>Gourmet</td>\n",
       "    </tr>\n",
       "  </tbody>\n",
       "</table>\n",
       "</div>"
      ],
      "text/plain": [
       "                                                 doc    label\n",
       "0  烏丸 六角 おかき 屋 さん 六角堂 前 ある 蕪村 庵 いう お店 行っ て おかき せん...  Gourmet\n",
       "0  河原町 居酒屋 この 間 先輩 たち つれ 河原町 居酒屋 行っ て き ｈｔｔｐ：／／ｗｗ...  Gourmet\n",
       "0  ちょっと 贅沢 ほんの ちょこっと ん けど 贅沢 とき 何 か 私 冬季 限定 白バラ コ...  Gourmet"
      ]
     },
     "execution_count": 5,
     "metadata": {},
     "output_type": "execute_result"
    }
   ],
   "source": [
    "df[:3]"
   ]
  },
  {
   "cell_type": "code",
   "execution_count": 6,
   "metadata": {
    "hidden": true
   },
   "outputs": [
    {
     "data": {
      "text/plain": [
       "(249, 2)"
      ]
     },
     "execution_count": 6,
     "metadata": {},
     "output_type": "execute_result"
    }
   ],
   "source": [
    "df.shape"
   ]
  },
  {
   "cell_type": "code",
   "execution_count": 7,
   "metadata": {
    "hidden": true,
    "scrolled": true
   },
   "outputs": [
    {
     "data": {
      "text/plain": [
       "Kyoto      91\n",
       "Gourmet    57\n",
       "Sports     22\n",
       "Keitai     79\n",
       "Name: label, dtype: int64"
      ]
     },
     "execution_count": 7,
     "metadata": {},
     "output_type": "execute_result"
    }
   ],
   "source": [
    "df['label'].value_counts(sort = False)"
   ]
  },
  {
   "cell_type": "markdown",
   "metadata": {
    "deletable": false,
    "editable": false,
    "hidden": true,
    "run_control": {
     "frozen": true
    }
   },
   "source": [
    "#### DataFrame to CSV"
   ]
  },
  {
   "cell_type": "code",
   "execution_count": 8,
   "metadata": {
    "hidden": true
   },
   "outputs": [],
   "source": [
    "df.to_csv('corpus2/split_data.csv')"
   ]
  },
  {
   "cell_type": "code",
   "execution_count": 9,
   "metadata": {
    "hidden": true
   },
   "outputs": [],
   "source": [
    "df = pd.read_csv('corpus2/split_data.csv')"
   ]
  },
  {
   "cell_type": "markdown",
   "metadata": {
    "deletable": false,
    "editable": false,
    "run_control": {
     "frozen": true
    }
   },
   "source": [
    "### Document Classification"
   ]
  },
  {
   "cell_type": "code",
   "execution_count": 42,
   "metadata": {},
   "outputs": [],
   "source": [
    "import matplotlib.pyplot as plt\n",
    "from sklearn.feature_extraction.text import CountVectorizer as CV\n",
    "from sklearn.linear_model import LogisticRegression, SGDClassifier\n",
    "from sklearn.model_selection import train_test_split\n",
    "from sklearn.naive_bayes import MultinomialNB\n",
    "from sklearn.pipeline import make_pipeline\n",
    "from sklearn.metrics import accuracy_score, precision_score, recall_score, f1_score\n",
    "from sklearn.model_selection import GridSearchCV"
   ]
  },
  {
   "cell_type": "markdown",
   "metadata": {
    "deletable": false,
    "editable": false,
    "run_control": {
     "frozen": true
    }
   },
   "source": [
    "#### split data"
   ]
  },
  {
   "cell_type": "code",
   "execution_count": 43,
   "metadata": {
    "scrolled": true
   },
   "outputs": [
    {
     "name": "stdout",
     "output_type": "stream",
     "text": [
      "\n",
      "train_X: (199,)\n",
      "test_X: (50,)\n",
      "train_y: (199,)\n",
      "test_y: (50,)\n",
      "\n",
      "Kyoto      73\n",
      "Keitai     63\n",
      "Gourmet    45\n",
      "Sports     18\n",
      "Name: label, dtype: int64\n",
      "Kyoto      18\n",
      "Keitai     16\n",
      "Gourmet    12\n",
      "Sports      4\n",
      "Name: label, dtype: int64\n"
     ]
    }
   ],
   "source": [
    "train_X, test_X, train_y, test_y = train_test_split(\n",
    "    df['doc'], df['label'], test_size = 0.2, random_state = 0, stratify = df['label'])\n",
    "print(f'''\n",
    "train_X: {train_X.shape}\n",
    "test_X: {test_X.shape}\n",
    "train_y: {train_y.shape}\n",
    "test_y: {test_y.shape}\n",
    "''')\n",
    "print(train_y.value_counts())\n",
    "print(test_y.value_counts())"
   ]
  },
  {
   "cell_type": "markdown",
   "metadata": {
    "deletable": false,
    "editable": false,
    "run_control": {
     "frozen": true
    }
   },
   "source": [
    "#### evaluation tools"
   ]
  },
  {
   "cell_type": "code",
   "execution_count": 44,
   "metadata": {},
   "outputs": [],
   "source": [
    "def conf_mat(true_y, pred_y, labels):\n",
    "    from sklearn.metrics import confusion_matrix\n",
    "    import seaborn as sns\n",
    "    \n",
    "    plt.rcParams['figure.figsize'] = (4.0, 4.0)\n",
    "    mat = confusion_matrix(true_y, pred_y)\n",
    "    sns.heatmap(mat.T, square = True, annot = True, fmt = 'd', cbar = False,\n",
    "               xticklabels = labels, yticklabels = labels)\n",
    "    plt.xlabel('true label')\n",
    "    plt.ylabel('predicted label')"
   ]
  },
  {
   "cell_type": "markdown",
   "metadata": {
    "deletable": false,
    "editable": false,
    "run_control": {
     "frozen": true
    }
   },
   "source": [
    "#### Bag of Words"
   ]
  },
  {
   "cell_type": "code",
   "execution_count": 45,
   "metadata": {},
   "outputs": [
    {
     "data": {
      "text/plain": [
       "CountVectorizer(analyzer='word', binary=False, decode_error='strict',\n",
       "                dtype=<class 'numpy.int64'>, encoding='utf-8', input='content',\n",
       "                lowercase=True, max_df=1.0, max_features=None, min_df=1,\n",
       "                ngram_range=(1, 1), preprocessor=None, stop_words=None,\n",
       "                strip_accents=None, token_pattern='(?u)\\\\b\\\\w+\\\\b',\n",
       "                tokenizer=None, vocabulary=None)"
      ]
     },
     "execution_count": 45,
     "metadata": {},
     "output_type": "execute_result"
    }
   ],
   "source": [
    "cv = CV(token_pattern = '(?u)\\\\b\\\\w+\\\\b')\n",
    "cv"
   ]
  },
  {
   "cell_type": "markdown",
   "metadata": {
    "deletable": false,
    "editable": false,
    "run_control": {
     "frozen": true
    }
   },
   "source": [
    "#### Naive Bayes"
   ]
  },
  {
   "cell_type": "code",
   "execution_count": 46,
   "metadata": {},
   "outputs": [
    {
     "name": "stdout",
     "output_type": "stream",
     "text": [
      "train accuracy = 1.0\n",
      "test accuracy = 0.92\n"
     ]
    },
    {
     "data": {
      "image/png": "[encoded data removed]",
      "text/plain": [
       "<Figure size 288x288 with 1 Axes>"
      ]
     },
     "metadata": {
      "needs_background": "light"
     },
     "output_type": "display_data"
    }
   ],
   "source": [
    "nb_clf = MultinomialNB(alpha=0.1)\n",
    "nb_model = make_pipeline(cv, nb_clf)\n",
    "\n",
    "nb_model.fit(train_X, train_y)\n",
    "\n",
    "train_acc = nb_model.score(train_X, train_y)\n",
    "test_acc = nb_model.score(test_X, test_y)\n",
    "pred_y = nb_model.predict(test_X)\n",
    "\n",
    "print(f'train accuracy = {train_acc}')\n",
    "print(f'test accuracy = {test_acc}')\n",
    "conf_mat(test_y, pred_y, topics)"
   ]
  },
  {
   "cell_type": "markdown",
   "metadata": {
    "deletable": false,
    "editable": false,
    "run_control": {
     "frozen": true
    }
   },
   "source": [
    "#### Logistic Regression"
   ]
  },
  {
   "cell_type": "code",
   "execution_count": 47,
   "metadata": {},
   "outputs": [
    {
     "name": "stdout",
     "output_type": "stream",
     "text": [
      "train accuracy = 1.0\n",
      "test accuracy = 0.88\n"
     ]
    },
    {
     "data": {
      "image/png": "[encoded data removed]",
      "text/plain": [
       "<Figure size 288x288 with 1 Axes>"
      ]
     },
     "metadata": {
      "needs_background": "light"
     },
     "output_type": "display_data"
    }
   ],
   "source": [
    "import warnings\n",
    "warnings.filterwarnings('ignore')\n",
    "\n",
    "lg_clf = LogisticRegression(penalty = 'l2', random_state = 0)\n",
    "lg_model=make_pipeline(cv, lg_clf)\n",
    "\n",
    "lg_model.fit(train_X, train_y)\n",
    "\n",
    "train_acc = lg_model.score(train_X, train_y)\n",
    "test_acc = lg_model.score(test_X, test_y)\n",
    "pred_y = lg_model.predict(test_X)\n",
    "\n",
    "print(f'train accuracy = {train_acc}')\n",
    "print(f'test accuracy = {test_acc}')\n",
    "conf_mat(test_y, pred_y, topics)"
   ]
  },
  {
   "cell_type": "markdown",
   "metadata": {
    "deletable": false,
    "editable": false,
    "run_control": {
     "frozen": true
    }
   },
   "source": [
    "#### Online Suport Vector Machine"
   ]
  },
  {
   "cell_type": "code",
   "execution_count": 48,
   "metadata": {},
   "outputs": [
    {
     "name": "stdout",
     "output_type": "stream",
     "text": [
      "train accuracy = 1.0\n",
      "test accuracy = 0.86\n"
     ]
    },
    {
     "data": {
      "image/png": "[encoded data removed]",
      "text/plain": [
       "<Figure size 288x288 with 1 Axes>"
      ]
     },
     "metadata": {
      "needs_background": "light"
     },
     "output_type": "display_data"
    }
   ],
   "source": [
    "svm_clf = SGDClassifier(loss = 'hinge')\n",
    "svm_model = make_pipeline(cv, svm_clf)\n",
    "\n",
    "svm_model.fit(train_X, train_y)\n",
    "\n",
    "train_acc = svm_model.score(train_X, train_y)\n",
    "test_acc = svm_model.score(test_X, test_y)\n",
    "pred_y = svm_model.predict(test_X)\n",
    "\n",
    "print(f'train accuracy = {train_acc}')\n",
    "print(f'test accuracy = {test_acc}')\n",
    "conf_mat(test_y, pred_y, topics)"
   ]
  },
  {
   "cell_type": "markdown",
   "metadata": {},
   "source": [
    "おしまーい"
   ]
  }
 ],
 "metadata": {
  "kernelspec": {
   "display_name": "Python 3",
   "language": "python",
   "name": "python3"
  },
  "language_info": {
   "codemirror_mode": {
    "name": "ipython",
    "version": 3
   },
   "file_extension": ".py",
   "mimetype": "text/x-python",
   "name": "python",
   "nbconvert_exporter": "python",
   "pygments_lexer": "ipython3",
   "version": "3.7.7"
  },
  "latex_envs": {
   "LaTeX_envs_menu_present": true,
   "autoclose": false,
   "autocomplete": true,
   "bibliofile": "biblio.bib",
   "cite_by": "apalike",
   "current_citInitial": 1,
   "eqLabelWithNumbers": true,
   "eqNumInitial": 1,
   "hotkeys": {
    "equation": "Ctrl-E",
    "itemize": "Ctrl-I"
   },
   "labels_anchors": false,
   "latex_user_defs": false,
   "report_style_numbering": false,
   "user_envs_cfg": false
  },
  "toc": {
   "base_numbering": 1,
   "nav_menu": {},
   "number_sections": true,
   "sideBar": true,
   "skip_h1_title": false,
   "title_cell": "Table of Contents",
   "title_sidebar": "Contents",
   "toc_cell": false,
   "toc_position": {},
   "toc_section_display": true,
   "toc_window_display": false
  },
  "varInspector": {
   "cols": {
    "lenName": 16,
    "lenType": 16,
    "lenVar": 40
   },
   "kernels_config": {
    "python": {
     "delete_cmd_postfix": "",
     "delete_cmd_prefix": "del ",
     "library": "var_list.py",
     "varRefreshCmd": "print(var_dic_list())"
    },
    "r": {
     "delete_cmd_postfix": ") ",
     "delete_cmd_prefix": "rm(",
     "library": "var_list.r",
     "varRefreshCmd": "cat(var_dic_list()) "
    }
   },
   "types_to_exclude": [
    "module",
    "function",
    "builtin_function_or_method",
    "instance",
    "_Feature"
   ],
   "window_display": false
  }
 },
 "nbformat": 4,
 "nbformat_minor": 4
}
