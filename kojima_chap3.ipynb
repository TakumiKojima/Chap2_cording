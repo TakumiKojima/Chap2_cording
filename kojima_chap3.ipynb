{
 "cells": [
  {
   "cell_type": "markdown",
   "metadata": {
    "deletable": false,
    "editable": false,
    "run_control": {
     "frozen": true
    }
   },
   "source": [
    "### Document to Text with Space between Words\n",
    "form: pandas data frame"
   ]
  },
  {
   "cell_type": "code",
   "execution_count": 1,
   "metadata": {},
   "outputs": [],
   "source": [
    "import re\n",
    "\n",
    "import pandas as pd\n",
    "import spacy"
   ]
  },
  {
   "cell_type": "code",
   "execution_count": 2,
   "metadata": {},
   "outputs": [],
   "source": [
    "D_path = './corpus2/'\n",
    "topics = ['Gourmet', 'Keitai', 'Kyoto', 'Sports']"
   ]
  },
  {
   "cell_type": "markdown",
   "metadata": {
    "deletable": false,
    "editable": false,
    "run_control": {
     "frozen": true
    }
   },
   "source": [
    "#### DataFrame to CSV"
   ]
  },
  {
   "cell_type": "code",
   "execution_count": 3,
   "metadata": {},
   "outputs": [],
   "source": [
    "df = pd.read_csv('corpus2/split_data_full.csv', index_col=0)"
   ]
  },
  {
   "cell_type": "code",
   "execution_count": 4,
   "metadata": {},
   "outputs": [
    {
     "data": {
      "text/html": [
       "<div>\n",
       "<style scoped>\n",
       "    .dataframe tbody tr th:only-of-type {\n",
       "        vertical-align: middle;\n",
       "    }\n",
       "\n",
       "    .dataframe tbody tr th {\n",
       "        vertical-align: top;\n",
       "    }\n",
       "\n",
       "    .dataframe thead th {\n",
       "        text-align: right;\n",
       "    }\n",
       "</style>\n",
       "<table border=\"1\" class=\"dataframe\">\n",
       "  <thead>\n",
       "    <tr style=\"text-align: right;\">\n",
       "      <th></th>\n",
       "      <th>doc</th>\n",
       "      <th>label</th>\n",
       "    </tr>\n",
       "  </thead>\n",
       "  <tbody>\n",
       "    <tr>\n",
       "      <th>0</th>\n",
       "      <td>烏丸 六角 の おかき 屋 さん 六角堂 の 前 に ある 、 蕪村 庵 と いう お店 に...</td>\n",
       "      <td>Gourmet</td>\n",
       "    </tr>\n",
       "    <tr>\n",
       "      <th>0</th>\n",
       "      <td>河原町 の 居酒屋 この 間 先輩 たち に つれ られ 、 河原町 の 居酒屋 へ 行っ ...</td>\n",
       "      <td>Gourmet</td>\n",
       "    </tr>\n",
       "    <tr>\n",
       "      <th>0</th>\n",
       "      <td>ちょっと 贅沢 ほんの ちょこっと な ん だ けど 、 贅沢 し たい とき に 何 を ...</td>\n",
       "      <td>Gourmet</td>\n",
       "    </tr>\n",
       "  </tbody>\n",
       "</table>\n",
       "</div>"
      ],
      "text/plain": [
       "                                                 doc    label\n",
       "0  烏丸 六角 の おかき 屋 さん 六角堂 の 前 に ある 、 蕪村 庵 と いう お店 に...  Gourmet\n",
       "0  河原町 の 居酒屋 この 間 先輩 たち に つれ られ 、 河原町 の 居酒屋 へ 行っ ...  Gourmet\n",
       "0  ちょっと 贅沢 ほんの ちょこっと な ん だ けど 、 贅沢 し たい とき に 何 を ...  Gourmet"
      ]
     },
     "execution_count": 4,
     "metadata": {},
     "output_type": "execute_result"
    }
   ],
   "source": [
    "df[:3]"
   ]
  },
  {
   "cell_type": "code",
   "execution_count": 6,
   "metadata": {},
   "outputs": [
    {
     "data": {
      "text/plain": [
       "(249, 2)"
      ]
     },
     "execution_count": 6,
     "metadata": {},
     "output_type": "execute_result"
    }
   ],
   "source": [
    "df.shape"
   ]
  },
  {
   "cell_type": "markdown",
   "metadata": {},
   "source": [
    "### Neural Network"
   ]
  },
  {
   "cell_type": "code",
   "execution_count": 10,
   "metadata": {},
   "outputs": [],
   "source": [
    "import imp\n",
    "import time\n",
    "\n",
    "import numpy as np\n",
    "import pkg_resources\n",
    "import pytorch_lightning as pl\n",
    "import torch\n",
    "import torch.nn as nn\n",
    "import torch.nn.functional as F\n",
    "import torch.optim as optim\n",
    "from pytorch_lightning import Trainer\n",
    "from sklearn import preprocessing\n",
    "from sklearn.feature_extraction.text import CountVectorizer, TfidfVectorizer\n",
    "from sklearn.metrics import classification_report\n",
    "from sklearn.model_selection import train_test_split\n",
    "\n",
    "imp.reload(pkg_resources)\n",
    "\n",
    "\n",
    "use_cuda = torch.cuda.is_available() and False\n",
    "device = torch.device(\"cuda\" if use_cuda else \"cpu\")"
   ]
  },
  {
   "cell_type": "markdown",
   "metadata": {},
   "source": [
    "#### 3 Layers Neural Network"
   ]
  },
  {
   "cell_type": "code",
   "execution_count": 6,
   "metadata": {
    "code_folding": [],
    "scrolled": true
   },
   "outputs": [
    {
     "name": "stdout",
     "output_type": "stream",
     "text": [
      "['Gourmet' 'Keitai' 'Kyoto' 'Sports']\n",
      "train_X: (174, 7138)\n",
      "test_X: (75, 7138)\n",
      "train_y: (174,)\n",
      "test_y: (75,)\n",
      "\n",
      "2    65\n",
      "1    58\n",
      "0    38\n",
      "3    13\n",
      "dtype: int64\n",
      "\n",
      "2    26\n",
      "1    21\n",
      "0    19\n",
      "3     9\n",
      "dtype: int64\n"
     ]
    }
   ],
   "source": [
    "le = preprocessing.LabelEncoder()\n",
    "y = le.fit_transform(df['label'])\n",
    "X = df['doc']\n",
    "print(le.classes_)\n",
    "\n",
    "vec = TfidfVectorizer()\n",
    "Xv = vec.fit_transform(X)\n",
    "\n",
    "train_X, test_X, train_y, test_y = train_test_split(\n",
    "    Xv, y, test_size=0.3, random_state=1)\n",
    "print(f'train_X: {train_X.shape}\\ntest_X: {test_X.shape}\\ntrain_y: {train_y.shape}\\ntest_y: {test_y.shape}\\n')\n",
    "print(f'{pd.Series(train_y.tolist()).value_counts()}\\n\\n{pd.Series(test_y.tolist()).value_counts()}')\n",
    "\n",
    "train_X = torch.Tensor(train_X.todense())\n",
    "train_y = torch.LongTensor(train_y)\n",
    "test_X = torch.Tensor(test_X.todense())\n",
    "test_y = torch.LongTensor(test_y)\n",
    "train = torch.utils.data.TensorDataset(train_X, train_y)\n",
    "test = torch.utils.data.TensorDataset(test_X, test_y)"
   ]
  },
  {
   "cell_type": "code",
   "execution_count": 7,
   "metadata": {
    "deletable": false,
    "editable": false
   },
   "outputs": [],
   "source": [
    "# model definition\n",
    "class MLP(pl.LightningModule):\n",
    "    \n",
    "    def __init__(self, hparams):\n",
    "        super(MLP, self).__init__()\n",
    "        self.hparams = hparams\n",
    "        self.fc1 = nn.Linear(self.hparams['input_size'], \n",
    "                             self.hparams['hidden_size'])\n",
    "        self.fc2 = nn.Linear(self.hparams['hidden_size'],\n",
    "                             self.hparams['output_size'])\n",
    "        self.batch_size = self.hparams['batch_size']\n",
    "        self.lr = self.hparams['learning_rate']\n",
    "        self.nw = self.hparams['num_workers']\n",
    "    \n",
    "    def forward(self, x):\n",
    "        x = self.fc1(x)\n",
    "        x = F.relu(x)\n",
    "        x = self.fc2(x)\n",
    "        return x\n",
    "    \n",
    "    def lossfun(self, y, t):\n",
    "        return F.cross_entropy(y, t)\n",
    "    \n",
    "    def configure_optimizers(self):\n",
    "        return optim.SGD(self.parameters(), lr = self.lr)\n",
    "    \n",
    "    @pl.data_loader\n",
    "    def train_dataloader(self):\n",
    "        return torch.utils.data.DataLoader(train, self.batch_size, shuffle=True, num_workers=self.nw)\n",
    "    \n",
    "    def test_dataloader(self):\n",
    "        return torch.utils.data.DataLoader(test, self.batch_size, shuffle=False, num_workers=self.nw)\n",
    "    \n",
    "    def training_step(self, batch, batch_nb):\n",
    "        x, t = batch\n",
    "        y = self.forward(x)\n",
    "        loss = self.lossfun(y, t)\n",
    "        results = {'loss':loss}\n",
    "        return results\n",
    "    \n",
    "    def test_step(self, batch, batch_idx):\n",
    "        x, y = batch\n",
    "        y_hat = self(x)\n",
    "        loss = self.lossfun(y_hat, y)\n",
    "        return {'test_loss':loss}\n",
    "    \n",
    "    def test_epoch_end(self, outputs):\n",
    "        test_loss_mean = torch.stack([x['test_loss'] for x in outputs]).mean()\n",
    "        return {'test_loss':test_loss_mean}"
   ]
  },
  {
   "cell_type": "code",
   "execution_count": 8,
   "metadata": {
    "deletable": false,
    "editable": false
   },
   "outputs": [],
   "source": [
    "def train_test(hparams):\n",
    "    mlp = MLP(hparams)\n",
    "    trainer = Trainer(max_nb_epochs=hparams['epochs'])\n",
    "    trainer.fit(mlp)\n",
    "    trainer.test()\n",
    "\n",
    "    pred_y = []\n",
    "\n",
    "    with torch.no_grad():\n",
    "        for (docs, labels) in torch.utils.data.DataLoader(test, 1, shuffle=False):\n",
    "            outputs = mlp(docs)\n",
    "            _, pred = torch.max(outputs.data, 1)\n",
    "            pred_y.append(pred.item())\n",
    "    print(\n",
    "        classification_report(\n",
    "            test_y, pred_y, target_names=le.classes_\n",
    "        )\n",
    "    )"
   ]
  },
  {
   "cell_type": "code",
   "execution_count": 38,
   "metadata": {
    "scrolled": true
   },
   "outputs": [
    {
     "name": "stderr",
     "output_type": "stream",
     "text": [
      "INFO:lightning:GPU available: False, used: False\n",
      "INFO:lightning:\n",
      "  | Name | Type   | Params\n",
      "----------------------------\n",
      "0 | fc1  | Linear | 71 K  \n",
      "1 | fc2  | Linear | 44    \n"
     ]
    },
    {
     "name": "stdout",
     "output_type": "stream",
     "text": [
      "--------------------------------------------------------\n",
      "{'input_size': 7138, 'output_size': 4, 'hidden_size': 10, 'batch_size': 10, 'learning_rate': 0.1, 'num_workers': 4, 'epochs': 50}\n"
     ]
    },
    {
     "data": {
      "application/vnd.jupyter.widget-view+json": {
       "model_id": "2c68caa308b447de9b7c547fc574d14d",
       "version_major": 2,
       "version_minor": 0
      },
      "text/plain": [
       "HBox(children=(FloatProgress(value=1.0, bar_style='info', description='Training', layout=Layout(flex='2'), max…"
      ]
     },
     "metadata": {},
     "output_type": "display_data"
    },
    {
     "name": "stdout",
     "output_type": "stream",
     "text": [
      "\n"
     ]
    },
    {
     "data": {
      "application/vnd.jupyter.widget-view+json": {
       "model_id": "b8bf5d1e67df40b889cc44cabfdf1a20",
       "version_major": 2,
       "version_minor": 0
      },
      "text/plain": [
       "HBox(children=(FloatProgress(value=1.0, bar_style='info', description='Testing', layout=Layout(flex='2'), max=…"
      ]
     },
     "metadata": {},
     "output_type": "display_data"
    },
    {
     "name": "stdout",
     "output_type": "stream",
     "text": [
      "--------------------------------------------------------------------------------\n",
      "TEST RESULTS\n",
      "{'test_loss': tensor(0.6131)}\n",
      "--------------------------------------------------------------------------------\n",
      "\n",
      "              precision    recall  f1-score   support\n",
      "\n",
      "     Gourmet       0.64      0.95      0.77        19\n",
      "      Keitai       1.00      0.90      0.95        21\n",
      "       Kyoto       0.89      0.92      0.91        26\n",
      "      Sports       1.00      0.11      0.20         9\n",
      "\n",
      "    accuracy                           0.83        75\n",
      "   macro avg       0.88      0.72      0.71        75\n",
      "weighted avg       0.87      0.83      0.80        75\n",
      "\n",
      "time:214.26565289497375\n",
      "--------------------------------------------------------\n"
     ]
    }
   ],
   "source": [
    "\n",
    "\n",
    "hparams = dict(\n",
    "    input_size = train_X.shape[1],\n",
    "    output_size = len(le.classes_),\n",
    "    hidden_size = 10,\n",
    "    batch_size = 10,\n",
    "    learning_rate = 0.1,\n",
    "    num_workers = 4,\n",
    "    epochs = 50\n",
    ")\n",
    "#default\n",
    "print('--------------------------------------------------------')\n",
    "print(hparams)\n",
    "t=time.time()\n",
    "train_test(hparams)\n",
    "print(f'time:{time.time()-t}')\n",
    "print('--------------------------------------------------------')             "
   ]
  },
  {
   "cell_type": "code",
   "execution_count": 11,
   "metadata": {
    "scrolled": true
   },
   "outputs": [
    {
     "name": "stderr",
     "output_type": "stream",
     "text": [
      "INFO:lightning:GPU available: False, used: False\n"
     ]
    },
    {
     "name": "stdout",
     "output_type": "stream",
     "text": [
      "--------------------------------------------------------\n",
      "{'input_size': 7138, 'output_size': 4, 'hidden_size': 70, 'batch_size': 10, 'learning_rate': 0.1, 'num_workers': 4, 'epochs': 50}\n"
     ]
    },
    {
     "name": "stderr",
     "output_type": "stream",
     "text": [
      "INFO:lightning:\n",
      "  | Name | Type   | Params\n",
      "----------------------------\n",
      "0 | fc1  | Linear | 499 K \n",
      "1 | fc2  | Linear | 284   \n"
     ]
    },
    {
     "data": {
      "application/vnd.jupyter.widget-view+json": {
       "model_id": "6e5efc85cdb045a9813dc7b64b5e0f87",
       "version_major": 2,
       "version_minor": 0
      },
      "text/plain": [
       "HBox(children=(FloatProgress(value=1.0, bar_style='info', description='Training', layout=Layout(flex='2'), max…"
      ]
     },
     "metadata": {},
     "output_type": "display_data"
    },
    {
     "name": "stdout",
     "output_type": "stream",
     "text": [
      "\n"
     ]
    },
    {
     "data": {
      "application/vnd.jupyter.widget-view+json": {
       "model_id": "156e11ec5ee943b8b55164dc2d21b1c4",
       "version_major": 2,
       "version_minor": 0
      },
      "text/plain": [
       "HBox(children=(FloatProgress(value=1.0, bar_style='info', description='Testing', layout=Layout(flex='2'), max=…"
      ]
     },
     "metadata": {},
     "output_type": "display_data"
    },
    {
     "name": "stdout",
     "output_type": "stream",
     "text": [
      "--------------------------------------------------------------------------------\n",
      "TEST RESULTS\n",
      "{'test_loss': tensor(0.6004)}\n",
      "--------------------------------------------------------------------------------\n",
      "\n",
      "              precision    recall  f1-score   support\n",
      "\n",
      "     Gourmet       0.89      0.89      0.89        19\n",
      "      Keitai       1.00      0.90      0.95        21\n",
      "       Kyoto       0.71      0.96      0.82        26\n",
      "      Sports       1.00      0.22      0.36         9\n",
      "\n",
      "    accuracy                           0.84        75\n",
      "   macro avg       0.90      0.75      0.76        75\n",
      "weighted avg       0.87      0.84      0.82        75\n",
      "\n",
      "time:235.68215537071228\n",
      "--------------------------------------------------------\n"
     ]
    }
   ],
   "source": [
    "hparams = dict(\n",
    "    input_size = train_X.shape[1],\n",
    "    output_size = len(le.classes_),\n",
    "    hidden_size = 70,\n",
    "    batch_size = 10,\n",
    "    learning_rate = 0.1,\n",
    "    num_workers = 4,\n",
    "    epochs = 50\n",
    ")\n",
    "#default\n",
    "print('--------------------------------------------------------')\n",
    "print(hparams)\n",
    "t=time.time()\n",
    "train_test(hparams)\n",
    "print(f'time:{time.time()-t}')\n",
    "print('--------------------------------------------------------')   "
   ]
  },
  {
   "cell_type": "code",
   "execution_count": 12,
   "metadata": {},
   "outputs": [],
   "source": [
    "# model definition\n",
    "class MLP(pl.LightningModule):\n",
    "    \n",
    "    def __init__(self, hparams):\n",
    "        super(MLP, self).__init__()\n",
    "        self.hparams = hparams\n",
    "        self.fc1 = nn.Linear(self.hparams['input_size'], \n",
    "                             self.hparams['hidden_size'])\n",
    "        self.fc2 = nn.Linear(self.hparams['hidden_size'],\n",
    "                             self.hparams['output_size'])\n",
    "        self.batch_size = self.hparams['batch_size']\n",
    "        self.lr = self.hparams['learning_rate']\n",
    "        self.nw = self.hparams['num_workers']\n",
    "    \n",
    "    def forward(self, x):\n",
    "        x = self.fc1(x)\n",
    "        x = F.sigmoid(x)\n",
    "        x = self.fc2(x)\n",
    "        return x\n",
    "    \n",
    "    def lossfun(self, y, t):\n",
    "        return F.cross_entropy(y, t)\n",
    "    \n",
    "    def configure_optimizers(self):\n",
    "        return optim.Adagrad(self.parameters(), lr = self.lr)\n",
    "    \n",
    "    @pl.data_loader\n",
    "    def train_dataloader(self):\n",
    "        return torch.utils.data.DataLoader(train, self.batch_size, shuffle=True, num_workers=self.nw)\n",
    "    \n",
    "    def test_dataloader(self):\n",
    "        return torch.utils.data.DataLoader(test, self.batch_size, shuffle=False, num_workers=self.nw)\n",
    "    \n",
    "    def training_step(self, batch, batch_nb):\n",
    "        x, t = batch\n",
    "        y = self.forward(x)\n",
    "        loss = self.lossfun(y, t)\n",
    "        results = {'loss':loss}\n",
    "        return results\n",
    "    \n",
    "    def test_step(self, batch, batch_idx):\n",
    "        x, y = batch\n",
    "        y_hat = self(x)\n",
    "        loss = self.lossfun(y_hat, y)\n",
    "        return {'test_loss':loss}\n",
    "    \n",
    "    def test_epoch_end(self, outputs):\n",
    "        test_loss_mean = torch.stack([x['test_loss'] for x in outputs]).mean()\n",
    "        return {'test_loss':test_loss_mean}"
   ]
  },
  {
   "cell_type": "code",
   "execution_count": 13,
   "metadata": {
    "scrolled": true
   },
   "outputs": [
    {
     "name": "stderr",
     "output_type": "stream",
     "text": [
      "INFO:lightning:GPU available: False, used: False\n",
      "INFO:lightning:\n",
      "  | Name | Type   | Params\n",
      "----------------------------\n",
      "0 | fc1  | Linear | 356 K \n",
      "1 | fc2  | Linear | 204   \n"
     ]
    },
    {
     "name": "stdout",
     "output_type": "stream",
     "text": [
      "--------------------------------------------------------\n",
      "{'input_size': 7138, 'output_size': 4, 'hidden_size': 50, 'batch_size': 10, 'learning_rate': 0.1, 'num_workers': 4, 'epochs': 50}\n"
     ]
    },
    {
     "data": {
      "application/vnd.jupyter.widget-view+json": {
       "model_id": "0759774d542f42e1854ccd3dd99b2835",
       "version_major": 2,
       "version_minor": 0
      },
      "text/plain": [
       "HBox(children=(FloatProgress(value=1.0, bar_style='info', description='Training', layout=Layout(flex='2'), max…"
      ]
     },
     "metadata": {},
     "output_type": "display_data"
    },
    {
     "name": "stderr",
     "output_type": "stream",
     "text": [
      "C:\\Users\\rappid\\anaconda3\\envs\\research\\lib\\site-packages\\torch\\nn\\functional.py:1351: UserWarning: nn.functional.sigmoid is deprecated. Use torch.sigmoid instead.\n",
      "  warnings.warn(\"nn.functional.sigmoid is deprecated. Use torch.sigmoid instead.\")\n"
     ]
    },
    {
     "name": "stdout",
     "output_type": "stream",
     "text": [
      "\n"
     ]
    },
    {
     "data": {
      "application/vnd.jupyter.widget-view+json": {
       "model_id": "298b72a75aa843908a3ba09448cffc2c",
       "version_major": 2,
       "version_minor": 0
      },
      "text/plain": [
       "HBox(children=(FloatProgress(value=1.0, bar_style='info', description='Testing', layout=Layout(flex='2'), max=…"
      ]
     },
     "metadata": {},
     "output_type": "display_data"
    },
    {
     "name": "stdout",
     "output_type": "stream",
     "text": [
      "--------------------------------------------------------------------------------\n",
      "TEST RESULTS\n",
      "{'test_loss': tensor(0.3778)}\n",
      "--------------------------------------------------------------------------------\n",
      "\n",
      "              precision    recall  f1-score   support\n",
      "\n",
      "     Gourmet       0.90      0.95      0.92        19\n",
      "      Keitai       0.95      0.95      0.95        21\n",
      "       Kyoto       0.83      0.96      0.89        26\n",
      "      Sports       1.00      0.44      0.62         9\n",
      "\n",
      "    accuracy                           0.89        75\n",
      "   macro avg       0.92      0.83      0.85        75\n",
      "weighted avg       0.90      0.89      0.88        75\n",
      "\n",
      "time:352.79061460494995\n",
      "--------------------------------------------------------\n"
     ]
    }
   ],
   "source": [
    "import time\n",
    "\n",
    "hparams = dict(\n",
    "    input_size = train_X.shape[1],\n",
    "    output_size = len(le.classes_),\n",
    "    hidden_size = 50,\n",
    "    batch_size = 10,\n",
    "    learning_rate = 0.1,\n",
    "    num_workers = 4,\n",
    "    epochs = 50\n",
    ")\n",
    "#default\n",
    "print('--------------------------------------------------------')\n",
    "print(hparams)\n",
    "t=time.time()\n",
    "train_test(hparams)\n",
    "print(f'time:{time.time()-t}')\n",
    "print('--------------------------------------------------------')             "
   ]
  },
  {
   "cell_type": "markdown",
   "metadata": {},
   "source": [
    "#### Conv Neural Network"
   ]
  },
  {
   "cell_type": "code",
   "execution_count": null,
   "metadata": {},
   "outputs": [],
   "source": []
  }
 ],
 "metadata": {
  "kernelspec": {
   "display_name": "Python 3",
   "language": "python",
   "name": "python3"
  },
  "language_info": {
   "codemirror_mode": {
    "name": "ipython",
    "version": 3
   },
   "file_extension": ".py",
   "mimetype": "text/x-python",
   "name": "python",
   "nbconvert_exporter": "python",
   "pygments_lexer": "ipython3",
   "version": "3.7.7"
  },
  "latex_envs": {
   "LaTeX_envs_menu_present": true,
   "autoclose": false,
   "autocomplete": true,
   "bibliofile": "biblio.bib",
   "cite_by": "apalike",
   "current_citInitial": 1,
   "eqLabelWithNumbers": true,
   "eqNumInitial": 1,
   "hotkeys": {
    "equation": "Ctrl-E",
    "itemize": "Ctrl-I"
   },
   "labels_anchors": false,
   "latex_user_defs": false,
   "report_style_numbering": false,
   "user_envs_cfg": false
  },
  "toc": {
   "base_numbering": 1,
   "nav_menu": {},
   "number_sections": true,
   "sideBar": true,
   "skip_h1_title": false,
   "title_cell": "Table of Contents",
   "title_sidebar": "Contents",
   "toc_cell": false,
   "toc_position": {},
   "toc_section_display": true,
   "toc_window_display": false
  }
 },
 "nbformat": 4,
 "nbformat_minor": 4
}
